{
  "nbformat": 4,
  "nbformat_minor": 0,
  "metadata": {
    "colab": {
      "provenance": []
    },
    "kernelspec": {
      "name": "python3",
      "display_name": "Python 3"
    },
    "language_info": {
      "name": "python"
    }
  },
  "cells": [
    {
      "cell_type": "markdown",
      "source": [
        "**THEORTICAL** **QUESTIONS**"
      ],
      "metadata": {
        "id": "Kz47VglatOLa"
      }
    },
    {
      "cell_type": "markdown",
      "source": [
        "1. What is a RESTful API?\n",
        "- > A RESTful API is a web service that follows REST (Representational State Transfer) principles, using HTTP methods to perform operations on resources identified by URLs."
      ],
      "metadata": {
        "id": "xtCdtJUbtklE"
      }
    },
    {
      "cell_type": "markdown",
      "source": [
        "2. Explain the concept of API specification.\n",
        "- > API specification is documentation that defines how an API works, including endpoints, request/response formats, parameters, and error codes. It serves as a contract between the API provider and consumers."
      ],
      "metadata": {
        "id": "QyrFq6KUtxjD"
      }
    },
    {
      "cell_type": "markdown",
      "source": [
        "3. What is Flask, and why is it popular for building APIs?\n",
        "- > Flask is a lightweight Python web framework. It's popular because it's simple, flexible, minimalistic, and allows developers to build APIs quickly with minimal boilerplate code."
      ],
      "metadata": {
        "id": "6JnwFgHct9UV"
      }
    },
    {
      "cell_type": "markdown",
      "source": [
        "4. What is routing in Flask?\n",
        "- > Routing defines URL patterns and maps them to specific functions that handle requests to those URLs.\n",
        "\n"
      ],
      "metadata": {
        "id": "d-gQvVU-uLEA"
      }
    },
    {
      "cell_type": "markdown",
      "source": [
        "5. How do you create a simple Flask application?.\n",
        "- > Answer:-"
      ],
      "metadata": {
        "id": "553i9QMuuVCY"
      }
    },
    {
      "cell_type": "code",
      "source": [
        "from flask import Flask\n",
        "\n",
        "app = Flask(__name__)\n",
        "\n",
        "@app.route('/')\n",
        "def hello():\n",
        "    return 'Hello, World!'\n",
        "\n",
        "if __name__ == '__main__':\n",
        "    app.run(debug=True)\n"
      ],
      "metadata": {
        "colab": {
          "base_uri": "https://localhost:8080/"
        },
        "id": "FRNvB0u6uj3T",
        "outputId": "14ce9d11-26f7-47c3-9cc5-4cb662a4d510"
      },
      "execution_count": null,
      "outputs": [
        {
          "output_type": "stream",
          "name": "stdout",
          "text": [
            " * Serving Flask app '__main__'\n",
            " * Debug mode: on\n"
          ]
        },
        {
          "output_type": "stream",
          "name": "stderr",
          "text": [
            "INFO:werkzeug:\u001b[31m\u001b[1mWARNING: This is a development server. Do not use it in a production deployment. Use a production WSGI server instead.\u001b[0m\n",
            " * Running on http://127.0.0.1:5000\n",
            "INFO:werkzeug:\u001b[33mPress CTRL+C to quit\u001b[0m\n",
            "INFO:werkzeug: * Restarting with watchdog (inotify)\n"
          ]
        }
      ]
    },
    {
      "cell_type": "markdown",
      "source": [
        "6. What are HTTP methods used in RESTful APIs?\n",
        "- GET: Retrieve data\n",
        "\n",
        "- POST: Create new resources\n",
        "\n",
        "- PUT: Update entire resources\n",
        "\n",
        "- PATCH: Partial updates\n",
        "\n",
        "- DELETE: Remove resources"
      ],
      "metadata": {
        "id": "kfQWIFbTu5zw"
      }
    },
    {
      "cell_type": "markdown",
      "source": [
        "7. What is the purpose of the @app.route() decorator in Flask?\n",
        "- > The @app.route() decorator binds a URL pattern to a Python function, telling Flask which function should handle requests to that specific URL."
      ],
      "metadata": {
        "id": "4pc8xfRNvSqC"
      }
    },
    {
      "cell_type": "markdown",
      "source": [
        "8. What is the difference between GET and POST HTTP methods?\n",
        "- GET: Retrieves data, parameters in URL, idempotent, cacheable\n",
        "\n",
        "- POST: Sends data in request body, creates resources, not idempotent"
      ],
      "metadata": {
        "id": "Aols-jQsvrCA"
      }
    },
    {
      "cell_type": "markdown",
      "source": [
        "9. How do you handle errors in Flask APIs?\n",
        "- > Answer:-"
      ],
      "metadata": {
        "id": "hj6azW8rv2Ux"
      }
    },
    {
      "cell_type": "code",
      "source": [
        "@app.errorhandler(404)\n",
        "def not_found(error):\n",
        "    return jsonify({'error': 'Not found'}), 404\n",
        "\n",
        "@app.errorhandler(500)\n",
        "def internal_error(error):\n",
        "    return jsonify({'error': 'Internal server error'}), 500\n"
      ],
      "metadata": {
        "id": "3saN_jtkwJMf"
      },
      "execution_count": null,
      "outputs": []
    },
    {
      "cell_type": "markdown",
      "source": [
        "10. How do you connect Flask to a SQL database?\n",
        "- > Answer:_"
      ],
      "metadata": {
        "id": "u0Nz6IfUwLQ6"
      }
    },
    {
      "cell_type": "code",
      "metadata": {
        "colab": {
          "base_uri": "https://localhost:8080/"
        },
        "id": "72e1b2e0",
        "outputId": "84115bcd-f836-4334-d7c3-e3fa622cf457"
      },
      "source": [
        "%pip install Flask-SQLAlchemy"
      ],
      "execution_count": null,
      "outputs": [
        {
          "output_type": "stream",
          "name": "stdout",
          "text": [
            "Collecting Flask-SQLAlchemy\n",
            "  Downloading flask_sqlalchemy-3.1.1-py3-none-any.whl.metadata (3.4 kB)\n",
            "Requirement already satisfied: flask>=2.2.5 in /usr/local/lib/python3.12/dist-packages (from Flask-SQLAlchemy) (3.1.2)\n",
            "Requirement already satisfied: sqlalchemy>=2.0.16 in /usr/local/lib/python3.12/dist-packages (from Flask-SQLAlchemy) (2.0.43)\n",
            "Requirement already satisfied: blinker>=1.9.0 in /usr/local/lib/python3.12/dist-packages (from flask>=2.2.5->Flask-SQLAlchemy) (1.9.0)\n",
            "Requirement already satisfied: click>=8.1.3 in /usr/local/lib/python3.12/dist-packages (from flask>=2.2.5->Flask-SQLAlchemy) (8.2.1)\n",
            "Requirement already satisfied: itsdangerous>=2.2.0 in /usr/local/lib/python3.12/dist-packages (from flask>=2.2.5->Flask-SQLAlchemy) (2.2.0)\n",
            "Requirement already satisfied: jinja2>=3.1.2 in /usr/local/lib/python3.12/dist-packages (from flask>=2.2.5->Flask-SQLAlchemy) (3.1.6)\n",
            "Requirement already satisfied: markupsafe>=2.1.1 in /usr/local/lib/python3.12/dist-packages (from flask>=2.2.5->Flask-SQLAlchemy) (3.0.2)\n",
            "Requirement already satisfied: werkzeug>=3.1.0 in /usr/local/lib/python3.12/dist-packages (from flask>=2.2.5->Flask-SQLAlchemy) (3.1.3)\n",
            "Requirement already satisfied: greenlet>=1 in /usr/local/lib/python3.12/dist-packages (from sqlalchemy>=2.0.16->Flask-SQLAlchemy) (3.2.4)\n",
            "Requirement already satisfied: typing-extensions>=4.6.0 in /usr/local/lib/python3.12/dist-packages (from sqlalchemy>=2.0.16->Flask-SQLAlchemy) (4.15.0)\n",
            "Downloading flask_sqlalchemy-3.1.1-py3-none-any.whl (25 kB)\n",
            "Installing collected packages: Flask-SQLAlchemy\n",
            "Successfully installed Flask-SQLAlchemy-3.1.1\n"
          ]
        }
      ]
    },
    {
      "cell_type": "markdown",
      "source": [
        "11. What is the role of Flask-SQLAlchemy?\n",
        "- > Flask-SQLAlchemy is an ORM extension that provides a simple way to interact with databases using Python objects instead of raw SQL queries."
      ],
      "metadata": {
        "id": "cwzGP7vRw5Ub"
      }
    },
    {
      "cell_type": "markdown",
      "source": [
        "12. What are Flask blueprints, and how are they useful?\n",
        "- > Blueprints organize Flask applications into modules, allowing you to group related routes and functionality for better code organization and reusability."
      ],
      "metadata": {
        "id": "MgzIXMXYxC1e"
      }
    },
    {
      "cell_type": "markdown",
      "source": [
        "13. What is the purpose of Flask's request object?\n",
        "- > The request object contains all incoming request data including form data, JSON, files, headers, and URL parameters."
      ],
      "metadata": {
        "id": "R804FqORxPHu"
      }
    },
    {
      "cell_type": "markdown",
      "source": [
        "14. How do you create a RESTful API endpoint using Flask?\n",
        "- > Answer:-"
      ],
      "metadata": {
        "id": "hl45eyZExfiR"
      }
    },
    {
      "cell_type": "code",
      "source": [
        "@app.route('/api/users', methods=['GET', 'POST'])\n",
        "def users():\n",
        "    if request.method == 'GET':\n",
        "        return jsonify(users_list)\n",
        "    elif request.method == 'POST':\n",
        "        # Create new user\n",
        "        return jsonify({'status': 'created'}), 201\n"
      ],
      "metadata": {
        "id": "oyhiqx1wxxR8"
      },
      "execution_count": null,
      "outputs": []
    },
    {
      "cell_type": "markdown",
      "source": [
        "15. What is the purpose of Flask's jsonify() function?\n",
        "- > jsonify() converts Python dictionaries/objects into proper JSON responses with correct content-type headers."
      ],
      "metadata": {
        "id": "A1PaQz7gxzzw"
      }
    },
    {
      "cell_type": "markdown",
      "source": [
        "16. Explain Flask’s url_for() function.\n",
        "- > url_for() generates URLs for routes dynamically, making your application more maintainable when URL patterns change."
      ],
      "metadata": {
        "id": "KlwjpcU7yFoI"
      }
    },
    {
      "cell_type": "markdown",
      "source": [
        "17. How does Flask handle static files (CSS, JavaScript, etc.)?\n",
        "- > Flask serves static files from the /static folder by default. Access them using url_for('static', filename='style.css')."
      ],
      "metadata": {
        "id": "5XVRYTDfyS06"
      }
    },
    {
      "cell_type": "markdown",
      "source": [
        "18. What is an API specification, and how does it help in building a Flask API?\n",
        "- > API specification (like OpenAPI/Swagger) documents your API's endpoints, parameters, and responses, helping developers understand and integrate with your API."
      ],
      "metadata": {
        "id": "oc5sxCtOye_F"
      }
    },
    {
      "cell_type": "markdown",
      "source": [
        "19. What are HTTP status codes, and why are they important in a Flask API?\n",
        "- > HTTP status codes indicate the result of API requests:\n",
        "\n",
        "- 200: Success\n",
        "\n",
        "- 201: Created\n",
        "\n",
        "- 400: Bad Request\n",
        "\n",
        "- 401: Unauthorized\n",
        "\n",
        "- 404: Not Found\n",
        "\n",
        "- 500: Internal Server Error"
      ],
      "metadata": {
        "id": "D8BAWcj4zC3X"
      }
    },
    {
      "cell_type": "markdown",
      "source": [
        "20.  How do you handle POST requests in Flask?\n",
        "- > Answer:-"
      ],
      "metadata": {
        "id": "iOXJCgM_zZjq"
      }
    },
    {
      "cell_type": "code",
      "source": [
        "@app.route('/submit', methods=['POST'])\n",
        "def handle_post():\n",
        "    data = request.get_json()\n",
        "    return jsonify({'status': 'received'})\n"
      ],
      "metadata": {
        "id": "MzgYFuQ1zkfL"
      },
      "execution_count": null,
      "outputs": []
    },
    {
      "cell_type": "markdown",
      "source": [
        "21. How would you secure a Flask API?\n",
        "- Use HTTPS\n",
        "\n",
        "- Implement authentication (JWT tokens)\n",
        "\n",
        "- Validate input data\n",
        "\n",
        "- Use CORS properly\n",
        "\n",
        "- Rate limiting\n",
        "\n",
        "- Input sanitization\n",
        "\n"
      ],
      "metadata": {
        "id": "JHdNDHLwzm3U"
      }
    },
    {
      "cell_type": "markdown",
      "source": [
        "22. What is the significance of the Flask-RESTful extension?\n",
        "- > Flask-RESTful provides tools for building REST APIs quickly, including resource-based routing, request parsing, and automatic JSON serialization."
      ],
      "metadata": {
        "id": "S1-hA3Yoz8H0"
      }
    },
    {
      "cell_type": "markdown",
      "source": [
        "23. What is the role of Flask’s session object?\n",
        "- > Sessions store user-specific data across requests using secure cookies, enabling user authentication and state management."
      ],
      "metadata": {
        "id": "wEL4kaXm0HxH"
      }
    },
    {
      "cell_type": "markdown",
      "source": [
        "#**PRACTICAL QUESTION**"
      ],
      "metadata": {
        "id": "j2MSgdcX0Sfu"
      }
    },
    {
      "cell_type": "markdown",
      "source": [
        "1. How do you create a basic Flask application?\n",
        "- > Answer:-"
      ],
      "metadata": {
        "id": "IbxDKuhA0iZe"
      }
    },
    {
      "cell_type": "code",
      "source": [
        "app = Flask(__name__)\n",
        "\n",
        "# Define a route\n",
        "@app.route('/')\n",
        "def hello_world():\n",
        "    return 'Hello, World!'\n",
        "\n",
        "# Run the application\n",
        "if __name__ == '__main__':\n",
        "    app.run(debug=True)\n"
      ],
      "metadata": {
        "id": "5adLgmgubTUe"
      },
      "execution_count": null,
      "outputs": []
    },
    {
      "cell_type": "markdown",
      "source": [
        "2. How do you serve static files like images or CSS in Flask?\n",
        "- > Amswer:-"
      ],
      "metadata": {
        "id": "8txWXSZGbWC5"
      }
    },
    {
      "cell_type": "code",
      "source": [
        "your_flask_app/\n",
        "├── app.py\n",
        "├── static/\n",
        "│   ├── css/\n",
        "│   │   └── style.css\n",
        "│   ├── js/\n",
        "│   │   └── script.js\n",
        "│   └── img/\n",
        "│       └── logo.png\n",
        "└── templates/\n",
        "    └── index.html"
      ],
      "metadata": {
        "colab": {
          "base_uri": "https://localhost:8080/",
          "height": 106
        },
        "id": "xv0aq_vrcPvZ",
        "outputId": "80666939-c36f-496b-d3b4-549c3d46143f"
      },
      "execution_count": 5,
      "outputs": [
        {
          "output_type": "error",
          "ename": "SyntaxError",
          "evalue": "invalid character '├' (U+251C) (ipython-input-751353664.py, line 2)",
          "traceback": [
            "\u001b[0;36m  File \u001b[0;32m\"/tmp/ipython-input-751353664.py\"\u001b[0;36m, line \u001b[0;32m2\u001b[0m\n\u001b[0;31m    ├── app.py\u001b[0m\n\u001b[0m    ^\u001b[0m\n\u001b[0;31mSyntaxError\u001b[0m\u001b[0;31m:\u001b[0m invalid character '├' (U+251C)\n"
          ]
        }
      ]
    },
    {
      "cell_type": "markdown",
      "source": [
        "3. How do you define different routes with different HTTP methods in Flask?\n",
        "- > Answwer:-"
      ],
      "metadata": {
        "id": "VK0BDhjYchk0"
      }
    },
    {
      "cell_type": "code",
      "metadata": {
        "colab": {
          "base_uri": "https://localhost:8080/"
        },
        "id": "6dffaaa5",
        "outputId": "c1eeadb4-5e2c-4d8c-d019-8e01fd2479bf"
      },
      "source": [
        "from flask import Flask, request, jsonify\n",
        "\n",
        "app = Flask(__name__)\n",
        "\n",
        "# Route that only accepts GET requests\n",
        "@app.route('/greet', methods=['GET'])\n",
        "def greet():\n",
        "    return 'Hello! This is a GET request.'\n",
        "\n",
        "# Route that only accepts POST requests\n",
        "@app.route('/submit_data', methods=['POST'])\n",
        "def submit_data():\n",
        "    data = request.get_json() # Assuming the request body is JSON\n",
        "    return jsonify({'message': 'Data received!', 'data': data}), 200\n",
        "\n",
        "# Route that accepts both GET and POST requests\n",
        "@app.route('/items', methods=['GET', 'POST'])\n",
        "def items():\n",
        "    if request.method == 'GET':\n",
        "        return jsonify(['item1', 'item2', 'item3'])\n",
        "    elif request.method == 'POST':\n",
        "        data = request.get_json()\n",
        "        return jsonify({'message': 'Item created', 'item': data}), 201\n",
        "\n",
        "if __name__ == '__main__':\n",
        "    # Note: Running a Flask app in a Colab environment often requires\n",
        "    # using a tool like ngrok to expose the local server to the internet.\n",
        "    # This basic example will run locally.\n",
        "    app.run(debug=True)"
      ],
      "execution_count": 8,
      "outputs": [
        {
          "output_type": "stream",
          "name": "stdout",
          "text": [
            " * Serving Flask app '__main__'\n",
            " * Debug mode: on\n"
          ]
        },
        {
          "output_type": "stream",
          "name": "stderr",
          "text": [
            "INFO:werkzeug:\u001b[31m\u001b[1mWARNING: This is a development server. Do not use it in a production deployment. Use a production WSGI server instead.\u001b[0m\n",
            " * Running on http://127.0.0.1:5000\n",
            "INFO:werkzeug:\u001b[33mPress CTRL+C to quit\u001b[0m\n",
            "INFO:werkzeug: * Restarting with watchdog (inotify)\n"
          ]
        }
      ]
    },
    {
      "cell_type": "markdown",
      "source": [
        "4. How do you render HTML templates in Flask?\n",
        "- > Answer:-"
      ],
      "metadata": {
        "id": "RRhPhY19dUno"
      }
    },
    {
      "cell_type": "code",
      "source": [
        "    # app.py\n",
        "    from flask import Flask, render_template\n",
        "    app = Flask(__name__)"
      ],
      "metadata": {
        "id": "bOABKxE0deNJ"
      },
      "execution_count": 9,
      "outputs": []
    },
    {
      "cell_type": "code",
      "source": [
        "    # app.py\n",
        "    @app.route('/')\n",
        "    def home():\n",
        "        page_title = \"My Flask App\"\n",
        "        user_name = \"World\"\n",
        "        data_items = [\"Item 1\", \"Item 2\", \"Item 3\"]\n",
        "        return render_template('index.html', title=page_title, name=user_name, items=data_items)"
      ],
      "metadata": {
        "id": "EgEHx-JQd1io"
      },
      "execution_count": 10,
      "outputs": []
    },
    {
      "cell_type": "markdown",
      "source": [
        "5.  How can you generate URLs for routes in Flask using url_for?\n",
        "- > Answer:- basic usage:"
      ],
      "metadata": {
        "id": "qpyRlqrBeAU1"
      }
    },
    {
      "cell_type": "code",
      "source": [
        "from flask import Flask, url_for\n",
        "\n",
        "app = Flask(__name__)\n",
        "\n",
        "@app.route('/')\n",
        "def index():\n",
        "    return 'Welcome to the homepage!'\n",
        "\n",
        "if __name__ == '__main__':\n",
        "    app.run(debug=True)"
      ],
      "metadata": {
        "colab": {
          "base_uri": "https://localhost:8080/"
        },
        "id": "e4YYLm4-eUCP",
        "outputId": "2c672e9e-63da-45e1-b15d-459624889e20"
      },
      "execution_count": 14,
      "outputs": [
        {
          "output_type": "stream",
          "name": "stdout",
          "text": [
            " * Serving Flask app '__main__'\n",
            " * Debug mode: on\n"
          ]
        },
        {
          "output_type": "stream",
          "name": "stderr",
          "text": [
            "INFO:werkzeug:\u001b[31m\u001b[1mWARNING: This is a development server. Do not use it in a production deployment. Use a production WSGI server instead.\u001b[0m\n",
            " * Running on http://127.0.0.1:5000\n",
            "INFO:werkzeug:\u001b[33mPress CTRL+C to quit\u001b[0m\n",
            "INFO:werkzeug: * Restarting with watchdog (inotify)\n"
          ]
        }
      ]
    },
    {
      "cell_type": "markdown",
      "source": [
        "- with variable parts"
      ],
      "metadata": {
        "id": "Bh9n8AC8eid-"
      }
    },
    {
      "cell_type": "code",
      "source": [
        "from flask import Flask, url_for\n",
        "\n",
        "app = Flask(__name__)\n",
        "\n",
        "@app.route('/user/<username>')\n",
        "def show_user_profile(username):\n",
        "    return f'User: {username}'\n",
        "\n",
        "if __name__ == '__main__':\n",
        "    app.run(debug=True)"
      ],
      "metadata": {
        "colab": {
          "base_uri": "https://localhost:8080/"
        },
        "id": "99Q4C91QeoIA",
        "outputId": "07ce0cfb-1fd2-400f-d84d-9e9c69180376"
      },
      "execution_count": 15,
      "outputs": [
        {
          "output_type": "stream",
          "name": "stdout",
          "text": [
            " * Serving Flask app '__main__'\n",
            " * Debug mode: on\n"
          ]
        },
        {
          "output_type": "stream",
          "name": "stderr",
          "text": [
            "INFO:werkzeug:\u001b[31m\u001b[1mWARNING: This is a development server. Do not use it in a production deployment. Use a production WSGI server instead.\u001b[0m\n",
            " * Running on http://127.0.0.1:5000\n",
            "INFO:werkzeug:\u001b[33mPress CTRL+C to quit\u001b[0m\n",
            "INFO:werkzeug: * Restarting with watchdog (inotify)\n"
          ]
        }
      ]
    },
    {
      "cell_type": "markdown",
      "source": [
        "6. How do you handle forms in Flask?\n",
        "- > Answer:-"
      ],
      "metadata": {
        "id": "fmwhLR4aewn3"
      }
    },
    {
      "cell_type": "code",
      "source": [
        "    from flask import Flask, request, render_template\n",
        "\n",
        "    app = Flask(__name__)\n",
        "\n",
        "    @app.route('/submit_form', methods=['GET', 'POST'])\n",
        "    def submit_form():\n",
        "        if request.method == 'POST':\n",
        "            username = request.form.get('username')\n",
        "            email = request.form.get('email')\n",
        "            # Process the data (e.g., save to database, display)\n",
        "            return f\"Username: {username}, Email: {email}\"\n",
        "        return render_template('form.html') # Render the form on GET request"
      ],
      "metadata": {
        "id": "HTWFArc7fAXf"
      },
      "execution_count": 16,
      "outputs": []
    },
    {
      "cell_type": "markdown",
      "source": [
        "7.  How can you validate form data in Flask?\n",
        "- > Answer:-"
      ],
      "metadata": {
        "id": "DvQZXaIafM0e"
      }
    },
    {
      "cell_type": "code",
      "source": [
        "from flask import Flask, request, render_template, flash\n",
        "\n",
        "app = Flask(__name__)\n",
        "app.secret_key = 'your-secret-key'\n",
        "\n",
        "@app.route('/register', methods=['GET', 'POST'])\n",
        "def register():\n",
        "    if request.method == 'POST':\n",
        "        username = request.form.get('username')\n",
        "        email = request.form.get('email')\n",
        "        password = request.form.get('password')\n",
        "\n",
        "        errors = []\n",
        "\n",
        "        # Validate username\n",
        "        if not username or len(username) < 3:\n",
        "            errors.append(\"Username must be at least 3 characters long\")\n",
        "\n",
        "        # Validate email\n",
        "        if not email or '@' not in email:\n",
        "            errors.append(\"Please enter a valid email address\")\n",
        "\n",
        "        # Validate password\n",
        "        if not password or len(password) < 8:\n",
        "            errors.append(\"Password must be at least 8 characters long\")\n",
        "\n",
        "        if errors:\n",
        "            for error in errors:\n",
        "                flash(error, 'error')\n",
        "            return render_template('register.html')\n",
        "\n",
        "        # Process valid data\n",
        "        return \"Registration successful!\"\n",
        "\n",
        "    return render_template('register.html')\n"
      ],
      "metadata": {
        "id": "EmdLegq4far-"
      },
      "execution_count": 17,
      "outputs": []
    },
    {
      "cell_type": "code",
      "metadata": {
        "colab": {
          "base_uri": "https://localhost:8080/"
        },
        "id": "dacdebe9",
        "outputId": "9bad72fc-14b0-4426-f2ed-719b38a39b7b"
      },
      "source": [
        "%pip install Flask-WTF"
      ],
      "execution_count": 19,
      "outputs": [
        {
          "output_type": "stream",
          "name": "stdout",
          "text": [
            "Collecting Flask-WTF\n",
            "  Downloading flask_wtf-1.2.2-py3-none-any.whl.metadata (3.4 kB)\n",
            "Requirement already satisfied: flask in /usr/local/lib/python3.12/dist-packages (from Flask-WTF) (3.1.2)\n",
            "Requirement already satisfied: itsdangerous in /usr/local/lib/python3.12/dist-packages (from Flask-WTF) (2.2.0)\n",
            "Collecting wtforms (from Flask-WTF)\n",
            "  Downloading wtforms-3.2.1-py3-none-any.whl.metadata (5.3 kB)\n",
            "Requirement already satisfied: blinker>=1.9.0 in /usr/local/lib/python3.12/dist-packages (from flask->Flask-WTF) (1.9.0)\n",
            "Requirement already satisfied: click>=8.1.3 in /usr/local/lib/python3.12/dist-packages (from flask->Flask-WTF) (8.2.1)\n",
            "Requirement already satisfied: jinja2>=3.1.2 in /usr/local/lib/python3.12/dist-packages (from flask->Flask-WTF) (3.1.6)\n",
            "Requirement already satisfied: markupsafe>=2.1.1 in /usr/local/lib/python3.12/dist-packages (from flask->Flask-WTF) (3.0.2)\n",
            "Requirement already satisfied: werkzeug>=3.1.0 in /usr/local/lib/python3.12/dist-packages (from flask->Flask-WTF) (3.1.3)\n",
            "Downloading flask_wtf-1.2.2-py3-none-any.whl (12 kB)\n",
            "Downloading wtforms-3.2.1-py3-none-any.whl (152 kB)\n",
            "\u001b[2K   \u001b[90m━━━━━━━━━━━━━━━━━━━━━━━━━━━━━━━━━━━━━━━━\u001b[0m \u001b[32m152.5/152.5 kB\u001b[0m \u001b[31m3.7 MB/s\u001b[0m eta \u001b[36m0:00:00\u001b[0m\n",
            "\u001b[?25hInstalling collected packages: wtforms, Flask-WTF\n",
            "Successfully installed Flask-WTF-1.2.2 wtforms-3.2.1\n"
          ]
        }
      ]
    },
    {
      "cell_type": "code",
      "source": [
        "<!-- templates/register.html -->\n",
        "<form method=\"POST\">\n",
        "    {{ form.hidden_tag() }}\n",
        "\n",
        "    {{ form.username.label }}\n",
        "    {{ form.username() }}\n",
        "    {% if form.username.errors %}\n",
        "        <ul>\n",
        "        {% for error in form.username.errors %}\n",
        "            <li>{{ error }}</li>\n",
        "        {% endfor %}\n",
        "        </ul>\n",
        "    {% endif %}\n",
        "\n",
        "    {{ form.submit() }}\n",
        "</form>\n"
      ],
      "metadata": {
        "colab": {
          "base_uri": "https://localhost:8080/",
          "height": 106
        },
        "id": "6l5Eecqrfyuf",
        "outputId": "6e0b4065-1276-45af-e3f5-77bff1109c6b"
      },
      "execution_count": 20,
      "outputs": [
        {
          "output_type": "error",
          "ename": "SyntaxError",
          "evalue": "invalid syntax (ipython-input-1213486000.py, line 1)",
          "traceback": [
            "\u001b[0;36m  File \u001b[0;32m\"/tmp/ipython-input-1213486000.py\"\u001b[0;36m, line \u001b[0;32m1\u001b[0m\n\u001b[0;31m    <!-- templates/register.html -->\u001b[0m\n\u001b[0m    ^\u001b[0m\n\u001b[0;31mSyntaxError\u001b[0m\u001b[0;31m:\u001b[0m invalid syntax\n"
          ]
        }
      ]
    },
    {
      "cell_type": "markdown",
      "source": [
        "8. How do you manage sessions in Flask?\n",
        "- > Answer:-"
      ],
      "metadata": {
        "id": "xBDL1j9Sf42G"
      }
    },
    {
      "cell_type": "code",
      "source": [
        "from flask import Flask, session, request, redirect, url_for\n",
        "\n",
        "app = Flask(__name__)\n",
        "app.secret_key = 'your-secret-key-here'  # Required for sessions\n",
        "\n",
        "@app.route('/login', methods=['GET', 'POST'])\n",
        "def login():\n",
        "    if request.method == 'POST':\n",
        "        username = request.form['username']\n",
        "        password = request.form['password']\n",
        "\n",
        "        # Validate credentials (simplified)\n",
        "        if username == 'admin' and password == 'secret':\n",
        "            session['username'] = username\n",
        "            session['logged_in'] = True\n",
        "            return redirect(url_for('dashboard'))\n",
        "        else:\n",
        "            return 'Invalid credentials'\n",
        "\n",
        "    return '''\n",
        "    <form method=\"post\">\n",
        "        Username: <input type=\"text\" name=\"username\"><br>\n",
        "        Password: <input type=\"password\" name=\"password\"><br>\n",
        "        <input type=\"submit\" value=\"Login\">\n",
        "    </form>\n",
        "    '''\n",
        "\n",
        "@app.route('/dashboard')\n",
        "def dashboard():\n",
        "    if 'logged_in' in session and session['logged_in']:\n",
        "        username = session.get('username')\n",
        "        return f'Welcome to the dashboard, {username}!'\n",
        "    else:\n",
        "        return redirect(url_for('login'))\n",
        "\n",
        "@app.route('/logout')\n",
        "def logout():\n",
        "    session.pop('username', None)\n",
        "    session.pop('logged_in', None)\n",
        "    # Or clear all session data: session.clear()\n",
        "    return redirect(url_for('login'))\n",
        "\n",
        "# Check session data\n",
        "@app.route('/profile')\n",
        "def profile():\n",
        "    if 'username' in session:\n",
        "        return f\"Logged in as: {session['username']}\"\n",
        "    return \"Not logged in\"\n"
      ],
      "metadata": {
        "id": "OFsYruwggGPg"
      },
      "execution_count": 21,
      "outputs": []
    },
    {
      "cell_type": "code",
      "source": [
        "from flask import Flask, session\n",
        "from flask_session import Session\n",
        "\n",
        "app = Flask(__name__)\n",
        "app.config['SESSION_TYPE'] = 'filesystem'  # or 'redis', 'memcached'\n",
        "app.config['SESSION_PERMANENT'] = False\n",
        "Session(app)\n",
        "\n",
        "@app.route('/set_session')\n",
        "def set_session():\n",
        "    session['user_id'] = 123\n",
        "    session['preferences'] = {'theme': 'dark', 'language': 'en'}\n",
        "    return 'Session data set'\n",
        "\n",
        "@app.route('/get_session')\n",
        "def get_session():\n",
        "    user_id = session.get('user_id', 'Not set')\n",
        "    preferences = session.get('preferences', {})\n",
        "    return f'User ID: {user_id}, Preferences: {preferences}'\n",
        "\n"
      ],
      "metadata": {
        "colab": {
          "base_uri": "https://localhost:8080/",
          "height": 383
        },
        "id": "y56Gd2E4gSy9",
        "outputId": "434ebbdf-bbb7-4dad-8fe9-47281c6a48c7"
      },
      "execution_count": 22,
      "outputs": [
        {
          "output_type": "error",
          "ename": "ModuleNotFoundError",
          "evalue": "No module named 'flask_session'",
          "traceback": [
            "\u001b[0;31m---------------------------------------------------------------------------\u001b[0m",
            "\u001b[0;31mModuleNotFoundError\u001b[0m                       Traceback (most recent call last)",
            "\u001b[0;32m/tmp/ipython-input-2832220548.py\u001b[0m in \u001b[0;36m<cell line: 0>\u001b[0;34m()\u001b[0m\n\u001b[1;32m      1\u001b[0m \u001b[0;32mfrom\u001b[0m \u001b[0mflask\u001b[0m \u001b[0;32mimport\u001b[0m \u001b[0mFlask\u001b[0m\u001b[0;34m,\u001b[0m \u001b[0msession\u001b[0m\u001b[0;34m\u001b[0m\u001b[0;34m\u001b[0m\u001b[0m\n\u001b[0;32m----> 2\u001b[0;31m \u001b[0;32mfrom\u001b[0m \u001b[0mflask_session\u001b[0m \u001b[0;32mimport\u001b[0m \u001b[0mSession\u001b[0m\u001b[0;34m\u001b[0m\u001b[0;34m\u001b[0m\u001b[0m\n\u001b[0m\u001b[1;32m      3\u001b[0m \u001b[0;34m\u001b[0m\u001b[0m\n\u001b[1;32m      4\u001b[0m \u001b[0mapp\u001b[0m \u001b[0;34m=\u001b[0m \u001b[0mFlask\u001b[0m\u001b[0;34m(\u001b[0m\u001b[0m__name__\u001b[0m\u001b[0;34m)\u001b[0m\u001b[0;34m\u001b[0m\u001b[0;34m\u001b[0m\u001b[0m\n\u001b[1;32m      5\u001b[0m \u001b[0mapp\u001b[0m\u001b[0;34m.\u001b[0m\u001b[0mconfig\u001b[0m\u001b[0;34m[\u001b[0m\u001b[0;34m'SESSION_TYPE'\u001b[0m\u001b[0;34m]\u001b[0m \u001b[0;34m=\u001b[0m \u001b[0;34m'filesystem'\u001b[0m  \u001b[0;31m# or 'redis', 'memcached'\u001b[0m\u001b[0;34m\u001b[0m\u001b[0;34m\u001b[0m\u001b[0m\n",
            "\u001b[0;31mModuleNotFoundError\u001b[0m: No module named 'flask_session'",
            "",
            "\u001b[0;31m---------------------------------------------------------------------------\u001b[0;32m\nNOTE: If your import is failing due to a missing package, you can\nmanually install dependencies using either !pip or !apt.\n\nTo view examples of installing some common dependencies, click the\n\"Open Examples\" button below.\n\u001b[0;31m---------------------------------------------------------------------------\u001b[0m\n"
          ],
          "errorDetails": {
            "actions": [
              {
                "action": "open_url",
                "actionText": "Open Examples",
                "url": "/notebooks/snippets/importing_libraries.ipynb"
              }
            ]
          }
        }
      ]
    },
    {
      "cell_type": "markdown",
      "source": [
        "9. How do you redirect to a different route in Flask?\n",
        "- > Answer:-"
      ],
      "metadata": {
        "id": "KqltUqc9gUNC"
      }
    },
    {
      "cell_type": "code",
      "source": [
        "from flask import Flask, redirect, url_for, request\n",
        "\n",
        "app = Flask(__name__)\n",
        "\n",
        "@app.route('/')\n",
        "def index():\n",
        "    return 'Home Page'\n",
        "\n",
        "@app.route('/admin')\n",
        "def admin():\n",
        "    return 'Admin Panel'\n",
        "\n",
        "@app.route('/user/<name>')\n",
        "def user_profile(name):\n",
        "    return f'User Profile: {name}'\n",
        "\n",
        "# Simple redirect to a static URL\n",
        "@app.route('/old-home')\n",
        "def old_home():\n",
        "    return redirect('/')\n",
        "\n",
        "# Redirect using url_for (recommended)\n",
        "@app.route('/dashboard')\n",
        "def dashboard():\n",
        "    return redirect(url_for('admin'))\n",
        "\n",
        "# Conditional redirect\n",
        "@app.route('/check-access/<username>')\n",
        "def check_access(username):\n",
        "    if username == 'admin':\n",
        "        return redirect(url_for('admin'))\n",
        "    else:\n",
        "        return redirect(url_for('user_profile', name=username))\n",
        "\n",
        "# Redirect with status codes\n",
        "@app.route('/moved-permanently')\n",
        "def moved_permanently():\n",
        "    return redirect(url_for('index'), code=301)\n",
        "\n",
        "@app.route('/temporary-redirect')\n",
        "def temporary_redirect():\n",
        "    return redirect(url_for('index'), code=302)  # Default\n",
        "\n",
        "# External redirect\n",
        "@app.route('/external')\n",
        "def external_redirect():\n",
        "    return redirect('https://www.google.com')\n",
        "\n",
        "# Form processing with redirect\n",
        "@app.route('/process-form', methods=['POST'])\n",
        "def process_form():\n",
        "    # Process form data\n",
        "    username = request.form['username']\n",
        "    # Redirect to prevent form resubmission\n",
        "    return redirect(url_for('user_profile', name=username))\n",
        "\n"
      ],
      "metadata": {
        "id": "xZldBMdfgbPL"
      },
      "execution_count": 23,
      "outputs": []
    },
    {
      "cell_type": "markdown",
      "source": [
        "10. How do you handle errors in Flask (e.g., 404)?\n",
        "- >Answer:-"
      ],
      "metadata": {
        "id": "TjlN3UvSgjXw"
      }
    },
    {
      "cell_type": "code",
      "source": [
        "from flask import Flask, render_template, abort\n",
        "\n",
        "app = Flask(__name__)\n",
        "\n",
        "# Handle 404 errors\n",
        "@app.errorhandler(404)\n",
        "def page_not_found(error):\n",
        "    return render_template('404.html'), 404\n",
        "\n",
        "# Handle 500 errors\n",
        "@app.errorhandler(500)\n",
        "def internal_server_error(error):\n",
        "    return render_template('500.html'), 500\n",
        "\n",
        "# Handle 403 errors\n",
        "@app.errorhandler(403)\n",
        "def forbidden(error):\n",
        "    return render_template('403.html'), 403\n",
        "\n",
        "# Generic error handler\n",
        "@app.errorhandler(Exception)\n",
        "def handle_exception(error):\n",
        "    # Log the error\n",
        "    app.logger.error(f\"Unhandled exception: {error}\")\n",
        "    return render_template('error.html'), 500\n",
        "\n",
        "# Routes that trigger errors\n",
        "@app.route('/not-found')\n",
        "def trigger_404():\n",
        "    abort(404)  # Manually trigger 404\n",
        "\n",
        "@app.route('/server-error')\n",
        "def trigger_500():\n",
        "    abort(500)  # Manually trigger 500\n",
        "\n",
        "@app.route('/user/<int:user_id>')\n",
        "def user_profile(user_id):\n",
        "    # Simulate user lookup\n",
        "    if user_id > 1000:\n",
        "        abort(404)  # User not found\n",
        "    return f'User ID: {user_id}'\n",
        "\n"
      ],
      "metadata": {
        "id": "3G5FmUXcgrh-"
      },
      "execution_count": 24,
      "outputs": []
    },
    {
      "cell_type": "markdown",
      "source": [
        "11. How do you structure a Flask app using Blueprints?\n",
        "- > Answer:-"
      ],
      "metadata": {
        "id": "b7lyHSc6hbmV"
      }
    },
    {
      "cell_type": "code",
      "source": [
        "    # auth/routes.py\n",
        "    from flask import Blueprint, render_template\n",
        "\n",
        "    auth_bp = Blueprint('auth', __name__, url_prefix='/auth')\n",
        "\n",
        "    @auth_bp.route('/login')\n",
        "    def login():\n",
        "        return render_template('login.html')"
      ],
      "metadata": {
        "id": "oLZptY5ShkWD"
      },
      "execution_count": 25,
      "outputs": []
    },
    {
      "cell_type": "markdown",
      "source": [
        "12.  How do you define a custom Jinja filter in Flask?\n",
        "- > Answer:-"
      ],
      "metadata": {
        "id": "RqI5tp95h48N"
      }
    },
    {
      "cell_type": "code",
      "source": [
        "from flask import Flask\n",
        "import datetime\n",
        "\n",
        "app = Flask(__name__)\n",
        "\n",
        "@app.template_filter('reverse')\n",
        "def reverse_filter(text):\n",
        "    \"\"\"Reverse a string\"\"\"\n",
        "    return text[::-1]\n",
        "\n",
        "@app.template_filter('currency')\n",
        "def currency_filter(amount):\n",
        "    \"\"\"Format number as currency\"\"\"\n",
        "    return f\"${amount:,.2f}\"\n",
        "\n",
        "@app.template_filter('datetime')\n",
        "def datetime_filter(timestamp, format='%Y-%m-%d'):\n",
        "    \"\"\"Format datetime\"\"\"\n",
        "    if isinstance(timestamp, str):\n",
        "        timestamp = datetime.datetime.fromisoformat(timestamp)\n",
        "    return timestamp.strftime(format)\n",
        "\n",
        "@app.template_filter('truncate_words')\n",
        "def truncate_words_filter(text, max_words=10):\n",
        "    \"\"\"Truncate text to specified number of words\"\"\"\n",
        "    words = text.split()\n",
        "    if len(words) <= max_words:\n",
        "        return text\n",
        "    return ' '.join(words[:max_words]) + '...'\n",
        "\n",
        "# Alternative registration method\n",
        "def capitalize_filter(text):\n",
        "    \"\"\"Capitalize each word\"\"\"\n",
        "    return ' '.join(word.capitalize() for word in text.split())\n",
        "\n",
        "app.jinja_env.filters['capitalize_words'] = capitalize_filter\n"
      ],
      "metadata": {
        "id": "dhQOreUPiBtB"
      },
      "execution_count": 27,
      "outputs": []
    },
    {
      "cell_type": "markdown",
      "source": [
        "13.  How can you redirect with query parameters in Flask?\n",
        "- > Answer:-"
      ],
      "metadata": {
        "id": "7DDV72vuiKha"
      }
    },
    {
      "cell_type": "code",
      "source": [
        "from flask import Flask, redirect, url_for, request\n",
        "from urllib.parse import urlencode\n",
        "\n",
        "app = Flask(__name__)\n",
        "\n",
        "@app.route('/')\n",
        "def index():\n",
        "    return 'Home Page'\n",
        "\n",
        "@app.route('/search')\n",
        "def search():\n",
        "    query = request.args.get('q', '')\n",
        "    category = request.args.get('category', 'all')\n",
        "    page = request.args.get('page', 1, type=int)\n",
        "\n",
        "    return f'Search: {query}, Category: {category}, Page: {page}'\n",
        "\n",
        "# Redirect with query parameters\n",
        "@app.route('/old-search')\n",
        "def old_search():\n",
        "    # Redirect to new search with default parameters\n",
        "    return redirect(url_for('search', q='flask', category='tutorials', page=1))\n",
        "\n",
        "@app.route('/advanced-search')\n",
        "def advanced_search():\n",
        "    # Get current parameters and modify them\n",
        "    current_query = request.args.get('q', '')\n",
        "\n",
        "    # Redirect with additional parameters\n",
        "    return redirect(url_for('search',\n",
        "                           q=current_query,\n",
        "                           category='advanced',\n",
        "                           sort='date',\n",
        "                           page=1))\n",
        "\n",
        "# Preserve existing query parameters\n",
        "@app.route('/login-redirect')\n",
        "def login_redirect():\n",
        "    # Save the current URL with query parameters\n",
        "    next_url = request.url\n",
        "    return redirect(url_for('login', next=next_url))\n",
        "\n",
        "@app.route('/login')\n",
        "def login():\n",
        "    next_url = request.args.get('next', url_for('index'))\n",
        "    # After login, redirect back to original URL\n",
        "    return f'Login page. After login, redirect to: {next_url}'\n",
        "\n",
        "# Dynamic parameter building\n",
        "@app.route('/filter-products')\n",
        "def filter_products():\n",
        "    filters = {\n",
        "        'brand': request.args.get('brand'),\n",
        "        'min_price': request.args.get('min_price', type=int),\n",
        "        'max_price': request.args.get('max_price', type=int),\n",
        "        'in_stock': request.args.get('in_stock', type=bool)\n",
        "    }\n",
        "\n",
        "    # Remove None values\n",
        "    filters = {k: v for k, v in filters.items() if v is not None}\n",
        "\n",
        "    # Redirect with cleaned parameters\n",
        "    return redirect(url_for('search', **filters))\n",
        "\n",
        "# Manual URL building with query parameters:\n",
        "@app.route('/custom-redirect')\n",
        "def custom_redirect():\n",
        "    base_url = url_for('search')\n",
        "    params = {\n",
        "        'q': 'python flask',\n",
        "        'category': 'tutorials',\n",
        "        'sort': 'popularity',\n",
        "        'page': 1\n",
        "    }\n",
        "\n",
        "    query_string = urlencode(params)\n",
        "    redirect_url = f\"{base_url}?{query_string}\"\n",
        "\n",
        "    return redirect(redirect_url)"
      ],
      "metadata": {
        "id": "L66zdkJGiQ4M"
      },
      "execution_count": 29,
      "outputs": []
    },
    {
      "cell_type": "markdown",
      "source": [
        "14. How do you return JSON responses in Flask?\n",
        "- > Answer:-"
      ],
      "metadata": {
        "id": "HLJe7qfUieUY"
      }
    },
    {
      "cell_type": "code",
      "source": [
        "from flask import Flask, jsonify, request\n",
        "\n",
        "app = Flask(__name__)\n",
        "\n",
        "# Simple JSON response\n",
        "@app.route('/api/status')\n",
        "def api_status():\n",
        "    return jsonify({\n",
        "        'status': 'success',\n",
        "        'message': 'API is running',\n",
        "        'timestamp': '2023-12-25T10:30:00'\n",
        "    })\n",
        "\n",
        "# Return list as JSON\n",
        "@app.route('/api/users')\n",
        "def get_users():\n",
        "    users = [\n",
        "        {'id': 1, 'name': 'John Doe', 'email': 'john@example.com'},\n",
        "        {'id': 2, 'name': 'Jane Smith', 'email': 'jane@example.com'}\n",
        "    ]\n",
        "    return jsonify(users)\n",
        "\n",
        "# JSON response with custom status code\n",
        "@app.route('/api/users', methods=['POST'])\n",
        "def create_user():\n",
        "    user_data = request.get_json()\n",
        "\n",
        "    # Validate data\n",
        "    if not user_data or 'name' not in user_data:\n",
        "        return jsonify({'error': 'Name is required'}), 400\n",
        "\n",
        "    # Create user (simplified)\n",
        "    new_user = {\n",
        "        'id': 123,\n",
        "        'name': user_data['name'],\n",
        "        'email': user_data.get('email', '')\n",
        "    }\n",
        "\n",
        "    return jsonify(new_user), 201\n",
        "\n",
        "# Error responses\n",
        "@app.route('/api/users/<int:user_id>')\n",
        "def get_user(user_id):\n",
        "    # Simulate user lookup\n",
        "    if user_id > 100:\n",
        "        return jsonify({'error': 'User not found'}), 404\n",
        "\n",
        "    user = {'id': user_id, 'name': f'User {user_id}'}\n",
        "    return jsonify(user)\n",
        "\n",
        "# JSON with metadata\n",
        "@app.route('/api/posts')\n",
        "def get_posts():\n",
        "    page = request.args.get('page', 1, type=int)\n",
        "    per_page = request.args.get('per_page', 10, type=int)\n",
        "\n",
        "    # Simulate pagination\n",
        "    posts = [\n",
        "        {'id': i, 'title': f'Post {i}', 'content': f'Content {i}'}\n",
        "        for i in range((page-1)*per_page + 1, page*per_page + 1)\n",
        "    ]\n",
        "\n",
        "    return jsonify({\n",
        "        'posts': posts,\n",
        "        'pagination': {\n",
        "            'page': page,\n",
        "            'per_page': per_page,\n",
        "            'total': 100,\n",
        "            'has_next': page * per_page < 100,\n",
        "            'has_prev': page > 1\n",
        "        }\n",
        "    })\n",
        "\n"
      ],
      "metadata": {
        "id": "QBVqHuOeimdz"
      },
      "execution_count": 30,
      "outputs": []
    },
    {
      "cell_type": "code",
      "source": [
        "@app.route('/api/calculate', methods=['POST'])\n",
        "def calculate():\n",
        "    data = request.get_json()\n",
        "\n",
        "    # Check if JSON was sent\n",
        "    if not data:\n",
        "        return jsonify({'error': 'No JSON data provided'}), 400\n",
        "\n",
        "    # Validate required fields\n",
        "    required_fields = ['operation', 'numbers']\n",
        "    for field in required_fields:\n",
        "        if field not in data:\n",
        "            return jsonify({'error': f'Missing field: {field}'}), 400\n",
        "\n",
        "    operation = data['operation']\n",
        "    numbers = data['numbers']\n",
        "\n",
        "    # Perform calculation\n",
        "    if operation == 'sum':\n",
        "        result = sum(numbers)\n",
        "    elif operation == 'average':\n",
        "        result = sum(numbers) / len(numbers)\n",
        "    else:\n",
        "        return jsonify({'error': 'Invalid operation'}), 400\n",
        "\n",
        "    return jsonify({\n",
        "        'operation': operation,\n",
        "        'numbers': numbers,\n",
        "        'result': result\n",
        "    })\n"
      ],
      "metadata": {
        "id": "wACcJGmiivvZ"
      },
      "execution_count": 31,
      "outputs": []
    },
    {
      "cell_type": "code",
      "source": [
        "from flask import make_response\n",
        "\n",
        "@app.route('/api/download')\n",
        "def download_data():\n",
        "    data = {'users': [{'id': 1, 'name': 'John'}]}\n",
        "\n",
        "    response = make_response(jsonify(data))\n",
        "    response.headers['Content-Disposition'] = 'attachment; filename=users.json'\n",
        "    response.headers['X-Custom-Header'] = 'Custom Value'\n",
        "\n",
        "    return response\n"
      ],
      "metadata": {
        "id": "Wi8G-KOVi3hy"
      },
      "execution_count": 32,
      "outputs": []
    },
    {
      "cell_type": "markdown",
      "source": [
        "15.  How do you capture URL parameters in Flask?\n",
        "- > Answer:-"
      ],
      "metadata": {
        "id": "gIWdosYFi9RF"
      }
    },
    {
      "cell_type": "code",
      "source": [
        "from flask import Flask\n",
        "\n",
        "app = Flask(__name__)\n",
        "\n",
        "# String parameter (default)\n",
        "@app.route('/user/<username>')\n",
        "def user_profile(username):\n",
        "    return f'User: {username}'\n",
        "\n",
        "# Integer parameter\n",
        "@app.route('/post/<int:post_id>')\n",
        "def show_post(post_id):\n",
        "    return f'Post ID: {post_id} (type: {type(post_id)})'\n",
        "\n",
        "# Float parameter\n",
        "@app.route('/price/<float:amount>')\n",
        "def show_price(amount):\n",
        "    return f'Price: ${amount:.2f}'\n",
        "\n",
        "# UUID parameter\n",
        "@app.route('/uuid/<uuid:user_uuid>')\n",
        "def show_uuid(user_uuid):\n",
        "    return f'UUID: {user_uuid}'\n",
        "\n",
        "# Path parameter (captures slashes)\n",
        "@app.route('/path/<path:subpath>')\n",
        "def show_path(subpath):\n",
        "    return f'Subpath: {subpath}'\n"
      ],
      "metadata": {
        "id": "Rbbw87tgjMlS"
      },
      "execution_count": 33,
      "outputs": []
    },
    {
      "cell_type": "code",
      "source": [
        "@app.route('/user/<username>/post/<int:post_id>')\n",
        "def user_post(username, post_id):\n",
        "    return f'User: {username}, Post ID: {post_id}'\n",
        "\n",
        "@app.route('/category/<category>/product/<int:product_id>')\n",
        "def product_detail(category, product_id):\n",
        "    return f'Category: {category}, Product: {product_id}'\n"
      ],
      "metadata": {
        "id": "21LVs1ngjPXz"
      },
      "execution_count": 34,
      "outputs": []
    },
    {
      "cell_type": "code",
      "source": [
        "from flask import request\n",
        "\n",
        "@app.route('/search')\n",
        "def search():\n",
        "    # Get single query parameter\n",
        "    query = request.args.get('q', '')\n",
        "    page = request.args.get('page', 1, type=int)\n",
        "\n",
        "    # Get multiple values for same parameter\n",
        "    tags = request.args.getlist('tag')\n",
        "\n",
        "    # Get all query parameters\n",
        "    all_params = request.args.to_dict()\n",
        "\n",
        "    return f'''\n",
        "    Query: {query}\n",
        "    Page: {page}\n",
        "    Tags: {tags}\n",
        "    All params: {all_params}\n",
        "    '''\n",
        "\n",
        "# Handle missing parameters with defaults\n",
        "@app.route('/products')\n",
        "def products():\n",
        "    category = request.args.get('category', 'all')\n",
        "    sort_by = request.args.get('sort', 'name')\n",
        "    limit = request.args.get('limit', 10, type=int)\n",
        "\n",
        "    return f'Category: {category}, Sort: {sort_by}, Limit: {limit}'\n",
        "\n"
      ],
      "metadata": {
        "id": "ecq77pSUjUED"
      },
      "execution_count": 35,
      "outputs": []
    },
    {
      "cell_type": "code",
      "source": [
        "# Optional parameter with default\n",
        "@app.route('/blog/')\n",
        "@app.route('/blog/<int:page>')\n",
        "def blog(page=1):\n",
        "    return f'Blog page: {page}'\n",
        "\n",
        "# Multiple optional parameters\n",
        "@app.route('/articles/')\n",
        "@app.route('/articles/<category>/')\n",
        "@app.route('/articles/<category>/<int:year>/')\n",
        "def articles(category='all', year=None):\n",
        "    if year:\n",
        "        return f'Articles in {category} from {year}'\n",
        "    return f'Articles in {category}'\n",
        "\n"
      ],
      "metadata": {
        "id": "Jlu8eixTjZy1"
      },
      "execution_count": 36,
      "outputs": []
    },
    {
      "cell_type": "code",
      "source": [
        "@app.route('/user/<int:user_id>')\n",
        "def user_detail(user_id):\n",
        "    # Validate parameter\n",
        "    if user_id <= 0:\n",
        "        return 'Invalid user ID', 400\n",
        "\n",
        "    # Simulate user lookup\n",
        "    if user_id > 1000:\n",
        "        return 'User not found', 404\n",
        "\n",
        "    return f'User ID: {user_id}'\n",
        "\n",
        "# Custom converter\n",
        "from werkzeug.routing import BaseConverter\n",
        "\n",
        "class ListConverter(BaseConverter):\n",
        "    def to_python(self, value):\n",
        "        return value.split(',')\n",
        "\n",
        "    def to_url(self, values):\n",
        "        return ','.join(BaseConverter.to_url(value)\n",
        "                       for value in values)\n",
        "\n",
        "app.url_map.converters['list'] = ListConverter\n",
        "\n",
        "@app.route('/tags/<list:tags>')\n",
        "def show_tags(tags):\n",
        "    return f'Tags: {tags}'  # /tags/python,flask,web\n"
      ],
      "metadata": {
        "id": "C4uyT0uXjgK6"
      },
      "execution_count": 37,
      "outputs": []
    },
    {
      "cell_type": "markdown",
      "source": [
        "- Best practices for URL parameters:\n",
        "- Use appropriate converters (int, float, uuid, path)\n",
        "- Validate parameters in your route functions\n",
        "-\tProvide meaningful error messages for invalid parameters\n",
        "-\tUse query parameters for optional filters and search criteria\n",
        "-\tUse URL parameters for required resource identifiers[39][37]\n"
      ],
      "metadata": {
        "id": "Q4B2s8fhjmMc"
      }
    }
  ]
}